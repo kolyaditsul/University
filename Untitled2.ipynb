{
  "metadata": {
    "language_info": {
      "codemirror_mode": {
        "name": "python",
        "version": 3
      },
      "file_extension": ".py",
      "mimetype": "text/x-python",
      "name": "python",
      "nbconvert_exporter": "python",
      "pygments_lexer": "ipython3",
      "version": "3.8"
    },
    "kernelspec": {
      "name": "python",
      "display_name": "Python (Pyodide)",
      "language": "python"
    }
  },
  "nbformat_minor": 4,
  "nbformat": 4,
  "cells": [
    {
      "cell_type": "code",
      "source": "import numpy as np\nfrom scipy.misc import derivative\n\ndef f(x):\n    return 4.5*pow(x,4) - 4*pow(x,3) + 1.5*pow(x,2) - 2*x - 7\n\neps = 0.0001\n\ndef find_segments():\n    search_range = np.arange(-10, 10, 1)\n    a = None\n    previous_x = None\n    current_x = None\n    segments = []\n    \n    for x in search_range:\n        x = round(x, 4)\n        current_x = f(x)\n        if previous_x is not None and previous_x * current_x < 0:\n            segments.append((a, x))\n        a = x\n        previous_x = current_x\n\n    return segments\n\nsegments = find_segments()\n\nfor a, b in segments:\n    print(f\"Знайдено відрізок: [{a}, {b}]\")\n\ndef bisection(a, b, eps):\n    while abs(a - b) > eps:\n        if f(a) * f((a + b) / 2) < 0:\n            b = (a + b) / 2\n        else:\n            a = (a + b) / 2\n    x = (a + b) / 2\n    return x\n\ndef secant(a, b, eps):\n    if f(a) * derivative(f, a, n=2) > 0:\n        x0 = a\n        xi = b\n    else:\n        x0 = b\n        xi = a\n    \n    xi_1 = xi - (xi - x0) * f(xi) / (f(xi) - f(x0))\n    \n    while abs(xi_1 - xi) > eps:\n        xi = xi_1\n        xi_1 = xi - (xi - x0) * f(xi) / (f(xi) - f(x0))\n    \n    return xi_1\n",
      "metadata": {
        "trusted": true
      },
      "execution_count": 5,
      "outputs": [
        {
          "name": "stdout",
          "text": "Знайдено відрізок: [-1, 0]\nЗнайдено відрізок: [1, 2]\n",
          "output_type": "stream"
        }
      ]
    },
    {
      "cell_type": "code",
      "source": "",
      "metadata": {},
      "execution_count": null,
      "outputs": []
    }
  ]
}